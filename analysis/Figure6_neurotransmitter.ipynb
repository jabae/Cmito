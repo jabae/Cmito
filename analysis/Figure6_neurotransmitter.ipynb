{
 "cells": [
  {
   "cell_type": "markdown",
   "id": "b514d396",
   "metadata": {},
   "source": [
    "# Neurotransmitter"
   ]
  },
  {
   "cell_type": "code",
   "execution_count": 10,
   "id": "bc7bf061",
   "metadata": {},
   "outputs": [],
   "source": [
    "import numpy as np\n",
    "import pandas as pd\n",
    "\n",
    "import matplotlib.pyplot as plt\n",
    "import matplotlib.gridspec as gs\n",
    "import seaborn as sns\n",
    "\n",
    "from scipy.stats import pearsonr, ranksums, ttest_ind\n",
    "\n",
    "%matplotlib inline"
   ]
  },
  {
   "cell_type": "code",
   "execution_count": 11,
   "id": "da6a0082",
   "metadata": {},
   "outputs": [],
   "source": [
    "timepoint = [5, 23, 27, 50, 69.5]\n",
    "bound = [15, 25, 35, 47, 62]\n",
    "stage_cmap = sns.color_palette(\"deep\",8)\n",
    "type_cmap = [(253/255, 225/255, 245/255),\n",
    "             (1, 183/255, 139/255),\n",
    "             (167/255, 217/255, 245/255)]\n",
    "nt_cmap = sns.color_palette(\"hls\",6)"
   ]
  },
  {
   "cell_type": "markdown",
   "id": "6fb4a1d0",
   "metadata": {},
   "source": [
    "## Load data"
   ]
  },
  {
   "cell_type": "code",
   "execution_count": 12,
   "id": "4e7944ab",
   "metadata": {},
   "outputs": [
    {
     "data": {
      "text/html": [
       "<div>\n",
       "<style scoped>\n",
       "    .dataframe tbody tr th:only-of-type {\n",
       "        vertical-align: middle;\n",
       "    }\n",
       "\n",
       "    .dataframe tbody tr th {\n",
       "        vertical-align: top;\n",
       "    }\n",
       "\n",
       "    .dataframe thead th {\n",
       "        text-align: right;\n",
       "    }\n",
       "</style>\n",
       "<table border=\"1\" class=\"dataframe\">\n",
       "  <thead>\n",
       "    <tr style=\"text-align: right;\">\n",
       "      <th></th>\n",
       "      <th>name</th>\n",
       "      <th>id</th>\n",
       "      <th>type</th>\n",
       "      <th>class</th>\n",
       "      <th>neurotransmitter1</th>\n",
       "      <th>neurotransmitter2</th>\n",
       "      <th>l1_vol</th>\n",
       "      <th>l2_vol</th>\n",
       "      <th>l3_vol</th>\n",
       "      <th>adult_vol</th>\n",
       "      <th>dauer_vol</th>\n",
       "    </tr>\n",
       "  </thead>\n",
       "  <tbody>\n",
       "    <tr>\n",
       "      <th>0</th>\n",
       "      <td>ADAL</td>\n",
       "      <td>1</td>\n",
       "      <td>2</td>\n",
       "      <td>ADA</td>\n",
       "      <td>Glutamate</td>\n",
       "      <td>NaN</td>\n",
       "      <td>0.701728</td>\n",
       "      <td>1.273221</td>\n",
       "      <td>1.371940</td>\n",
       "      <td>3.494185</td>\n",
       "      <td>1.159168</td>\n",
       "    </tr>\n",
       "    <tr>\n",
       "      <th>1</th>\n",
       "      <td>ADAR</td>\n",
       "      <td>2</td>\n",
       "      <td>2</td>\n",
       "      <td>ADA</td>\n",
       "      <td>Glutamate</td>\n",
       "      <td>NaN</td>\n",
       "      <td>0.644497</td>\n",
       "      <td>1.260319</td>\n",
       "      <td>1.613807</td>\n",
       "      <td>2.878003</td>\n",
       "      <td>1.017088</td>\n",
       "    </tr>\n",
       "    <tr>\n",
       "      <th>2</th>\n",
       "      <td>ADEL</td>\n",
       "      <td>3</td>\n",
       "      <td>1</td>\n",
       "      <td>ADE</td>\n",
       "      <td>Dopamine</td>\n",
       "      <td>NaN</td>\n",
       "      <td>0.364170</td>\n",
       "      <td>1.336320</td>\n",
       "      <td>1.832287</td>\n",
       "      <td>7.324293</td>\n",
       "      <td>0.791347</td>\n",
       "    </tr>\n",
       "    <tr>\n",
       "      <th>3</th>\n",
       "      <td>ADER</td>\n",
       "      <td>4</td>\n",
       "      <td>1</td>\n",
       "      <td>ADE</td>\n",
       "      <td>Dopamine</td>\n",
       "      <td>NaN</td>\n",
       "      <td>0.297124</td>\n",
       "      <td>1.328579</td>\n",
       "      <td>1.841921</td>\n",
       "      <td>6.864507</td>\n",
       "      <td>0.781312</td>\n",
       "    </tr>\n",
       "    <tr>\n",
       "      <th>4</th>\n",
       "      <td>ADFL</td>\n",
       "      <td>5</td>\n",
       "      <td>1</td>\n",
       "      <td>ADF</td>\n",
       "      <td>Acetylcholine</td>\n",
       "      <td>Serotonin</td>\n",
       "      <td>0.753066</td>\n",
       "      <td>1.446728</td>\n",
       "      <td>2.018413</td>\n",
       "      <td>3.728548</td>\n",
       "      <td>1.827789</td>\n",
       "    </tr>\n",
       "  </tbody>\n",
       "</table>\n",
       "</div>"
      ],
      "text/plain": [
       "   name  id  type class neurotransmitter1 neurotransmitter2    l1_vol  \\\n",
       "0  ADAL   1     2   ADA         Glutamate               NaN  0.701728   \n",
       "1  ADAR   2     2   ADA         Glutamate               NaN  0.644497   \n",
       "2  ADEL   3     1   ADE          Dopamine               NaN  0.364170   \n",
       "3  ADER   4     1   ADE          Dopamine               NaN  0.297124   \n",
       "4  ADFL   5     1   ADF     Acetylcholine         Serotonin  0.753066   \n",
       "\n",
       "     l2_vol    l3_vol  adult_vol  dauer_vol  \n",
       "0  1.273221  1.371940   3.494185   1.159168  \n",
       "1  1.260319  1.613807   2.878003   1.017088  \n",
       "2  1.336320  1.832287   7.324293   0.791347  \n",
       "3  1.328579  1.841921   6.864507   0.781312  \n",
       "4  1.446728  2.018413   3.728548   1.827789  "
      ]
     },
     "execution_count": 12,
     "metadata": {},
     "output_type": "execute_result"
    }
   ],
   "source": [
    "cell_df = pd.read_csv(\"neuron_list_hobert.csv\")\n",
    "cell_df.head()"
   ]
  },
  {
   "cell_type": "code",
   "execution_count": 13,
   "id": "65c74a91",
   "metadata": {},
   "outputs": [
    {
     "data": {
      "text/html": [
       "<div>\n",
       "<style scoped>\n",
       "    .dataframe tbody tr th:only-of-type {\n",
       "        vertical-align: middle;\n",
       "    }\n",
       "\n",
       "    .dataframe tbody tr th {\n",
       "        vertical-align: top;\n",
       "    }\n",
       "\n",
       "    .dataframe thead th {\n",
       "        text-align: right;\n",
       "    }\n",
       "</style>\n",
       "<table border=\"1\" class=\"dataframe\">\n",
       "  <thead>\n",
       "    <tr style=\"text-align: right;\">\n",
       "      <th></th>\n",
       "      <th>cell_name</th>\n",
       "      <th>cell_id</th>\n",
       "      <th>cell_common_id</th>\n",
       "      <th>class</th>\n",
       "      <th>mito_id</th>\n",
       "      <th>cell_vol</th>\n",
       "      <th>mito_vol</th>\n",
       "      <th>cell_surf</th>\n",
       "      <th>mito_surf</th>\n",
       "      <th>x_pos</th>\n",
       "      <th>y_pos</th>\n",
       "      <th>z_pos</th>\n",
       "      <th>mito_len</th>\n",
       "      <th>dist_pre</th>\n",
       "      <th>dist_post</th>\n",
       "    </tr>\n",
       "  </thead>\n",
       "  <tbody>\n",
       "    <tr>\n",
       "      <th>0</th>\n",
       "      <td>AIBR</td>\n",
       "      <td>15</td>\n",
       "      <td>14</td>\n",
       "      <td>2</td>\n",
       "      <td>747</td>\n",
       "      <td>2.679757</td>\n",
       "      <td>0.021658</td>\n",
       "      <td>29.616532</td>\n",
       "      <td>0.372357</td>\n",
       "      <td>5.868936</td>\n",
       "      <td>2.328813</td>\n",
       "      <td>4.282388</td>\n",
       "      <td>1.328166</td>\n",
       "      <td>0.619359</td>\n",
       "      <td>0.666193</td>\n",
       "    </tr>\n",
       "    <tr>\n",
       "      <th>1</th>\n",
       "      <td>AIBR</td>\n",
       "      <td>15</td>\n",
       "      <td>14</td>\n",
       "      <td>2</td>\n",
       "      <td>977</td>\n",
       "      <td>2.679757</td>\n",
       "      <td>0.022989</td>\n",
       "      <td>29.616532</td>\n",
       "      <td>0.438184</td>\n",
       "      <td>7.818976</td>\n",
       "      <td>3.981256</td>\n",
       "      <td>5.437973</td>\n",
       "      <td>0.960554</td>\n",
       "      <td>0.472862</td>\n",
       "      <td>0.581278</td>\n",
       "    </tr>\n",
       "    <tr>\n",
       "      <th>2</th>\n",
       "      <td>AIBR</td>\n",
       "      <td>15</td>\n",
       "      <td>14</td>\n",
       "      <td>2</td>\n",
       "      <td>1346</td>\n",
       "      <td>2.679757</td>\n",
       "      <td>0.008806</td>\n",
       "      <td>29.616532</td>\n",
       "      <td>0.194831</td>\n",
       "      <td>4.602977</td>\n",
       "      <td>2.567442</td>\n",
       "      <td>7.082849</td>\n",
       "      <td>0.874920</td>\n",
       "      <td>2.611763</td>\n",
       "      <td>0.339316</td>\n",
       "    </tr>\n",
       "    <tr>\n",
       "      <th>3</th>\n",
       "      <td>AIBR</td>\n",
       "      <td>15</td>\n",
       "      <td>14</td>\n",
       "      <td>2</td>\n",
       "      <td>1400</td>\n",
       "      <td>2.679757</td>\n",
       "      <td>0.020378</td>\n",
       "      <td>29.616532</td>\n",
       "      <td>0.411419</td>\n",
       "      <td>7.925869</td>\n",
       "      <td>5.646151</td>\n",
       "      <td>7.352387</td>\n",
       "      <td>1.726368</td>\n",
       "      <td>0.232002</td>\n",
       "      <td>0.817458</td>\n",
       "    </tr>\n",
       "    <tr>\n",
       "      <th>4</th>\n",
       "      <td>AIBR</td>\n",
       "      <td>15</td>\n",
       "      <td>14</td>\n",
       "      <td>2</td>\n",
       "      <td>2008</td>\n",
       "      <td>2.679757</td>\n",
       "      <td>0.010291</td>\n",
       "      <td>29.616532</td>\n",
       "      <td>0.250027</td>\n",
       "      <td>6.260060</td>\n",
       "      <td>7.735721</td>\n",
       "      <td>10.437065</td>\n",
       "      <td>1.414361</td>\n",
       "      <td>0.206209</td>\n",
       "      <td>0.813789</td>\n",
       "    </tr>\n",
       "  </tbody>\n",
       "</table>\n",
       "</div>"
      ],
      "text/plain": [
       "  cell_name  cell_id  cell_common_id  class  mito_id  cell_vol  mito_vol  \\\n",
       "0      AIBR       15              14      2      747  2.679757  0.021658   \n",
       "1      AIBR       15              14      2      977  2.679757  0.022989   \n",
       "2      AIBR       15              14      2     1346  2.679757  0.008806   \n",
       "3      AIBR       15              14      2     1400  2.679757  0.020378   \n",
       "4      AIBR       15              14      2     2008  2.679757  0.010291   \n",
       "\n",
       "   cell_surf  mito_surf     x_pos     y_pos      z_pos  mito_len  dist_pre  \\\n",
       "0  29.616532   0.372357  5.868936  2.328813   4.282388  1.328166  0.619359   \n",
       "1  29.616532   0.438184  7.818976  3.981256   5.437973  0.960554  0.472862   \n",
       "2  29.616532   0.194831  4.602977  2.567442   7.082849  0.874920  2.611763   \n",
       "3  29.616532   0.411419  7.925869  5.646151   7.352387  1.726368  0.232002   \n",
       "4  29.616532   0.250027  6.260060  7.735721  10.437065  1.414361  0.206209   \n",
       "\n",
       "   dist_post  \n",
       "0   0.666193  \n",
       "1   0.581278  \n",
       "2   0.339316  \n",
       "3   0.817458  \n",
       "4   0.813789  "
      ]
     },
     "execution_count": 13,
     "metadata": {},
     "output_type": "execute_result"
    }
   ],
   "source": [
    "l1_mito_df = pd.read_csv(\"240527_dataset2_mito_neuron.csv\")\n",
    "l2_mito_df = pd.read_csv(\"240527_dataset5_mito_neuron.csv\")\n",
    "l3_mito_df = pd.read_csv(\"240527_dataset6_mito_neuron.csv\")\n",
    "adult_mito_df = pd.read_csv(\"240527_dataset8_mito_neuron.csv\")\n",
    "dauer_mito_df = pd.read_csv(\"240527_dauer1_mito_neuron.csv\")\n",
    "dauer_mito_df.head()"
   ]
  },
  {
   "cell_type": "code",
   "execution_count": 14,
   "id": "acfc0465",
   "metadata": {},
   "outputs": [
    {
     "data": {
      "text/html": [
       "<div>\n",
       "<style scoped>\n",
       "    .dataframe tbody tr th:only-of-type {\n",
       "        vertical-align: middle;\n",
       "    }\n",
       "\n",
       "    .dataframe tbody tr th {\n",
       "        vertical-align: top;\n",
       "    }\n",
       "\n",
       "    .dataframe thead th {\n",
       "        text-align: right;\n",
       "    }\n",
       "</style>\n",
       "<table border=\"1\" class=\"dataframe\">\n",
       "  <thead>\n",
       "    <tr style=\"text-align: right;\">\n",
       "      <th></th>\n",
       "      <th>syn_id</th>\n",
       "      <th>pre</th>\n",
       "      <th>pre_id</th>\n",
       "      <th>pre_common_id</th>\n",
       "      <th>post</th>\n",
       "      <th>post_id</th>\n",
       "      <th>post_common_id</th>\n",
       "      <th>x_pos</th>\n",
       "      <th>y_pos</th>\n",
       "      <th>z_pos</th>\n",
       "      <th>size</th>\n",
       "    </tr>\n",
       "  </thead>\n",
       "  <tbody>\n",
       "    <tr>\n",
       "      <th>0</th>\n",
       "      <td>1</td>\n",
       "      <td>RIH</td>\n",
       "      <td>145</td>\n",
       "      <td>124</td>\n",
       "      <td>CEPDL</td>\n",
       "      <td>187</td>\n",
       "      <td>71</td>\n",
       "      <td>6264</td>\n",
       "      <td>3540</td>\n",
       "      <td>50</td>\n",
       "      <td>56629.85685</td>\n",
       "    </tr>\n",
       "    <tr>\n",
       "      <th>1</th>\n",
       "      <td>1</td>\n",
       "      <td>RIH</td>\n",
       "      <td>145</td>\n",
       "      <td>124</td>\n",
       "      <td>OLQDL</td>\n",
       "      <td>189</td>\n",
       "      <td>95</td>\n",
       "      <td>6264</td>\n",
       "      <td>3540</td>\n",
       "      <td>50</td>\n",
       "      <td>115370.14310</td>\n",
       "    </tr>\n",
       "    <tr>\n",
       "      <th>2</th>\n",
       "      <td>2</td>\n",
       "      <td>RIH</td>\n",
       "      <td>145</td>\n",
       "      <td>124</td>\n",
       "      <td>URXR</td>\n",
       "      <td>179</td>\n",
       "      <td>181</td>\n",
       "      <td>3312</td>\n",
       "      <td>3848</td>\n",
       "      <td>50</td>\n",
       "      <td>529157.36040</td>\n",
       "    </tr>\n",
       "    <tr>\n",
       "      <th>3</th>\n",
       "      <td>2</td>\n",
       "      <td>RIH</td>\n",
       "      <td>145</td>\n",
       "      <td>124</td>\n",
       "      <td>IL2DR</td>\n",
       "      <td>182</td>\n",
       "      <td>88</td>\n",
       "      <td>3312</td>\n",
       "      <td>3848</td>\n",
       "      <td>50</td>\n",
       "      <td>153855.83760</td>\n",
       "    </tr>\n",
       "    <tr>\n",
       "      <th>4</th>\n",
       "      <td>2</td>\n",
       "      <td>RIH</td>\n",
       "      <td>145</td>\n",
       "      <td>124</td>\n",
       "      <td>CEPDR</td>\n",
       "      <td>186</td>\n",
       "      <td>72</td>\n",
       "      <td>3312</td>\n",
       "      <td>3848</td>\n",
       "      <td>50</td>\n",
       "      <td>17786.80203</td>\n",
       "    </tr>\n",
       "  </tbody>\n",
       "</table>\n",
       "</div>"
      ],
      "text/plain": [
       "   syn_id  pre  pre_id  pre_common_id   post  post_id  post_common_id  x_pos  \\\n",
       "0       1  RIH     145            124  CEPDL      187              71   6264   \n",
       "1       1  RIH     145            124  OLQDL      189              95   6264   \n",
       "2       2  RIH     145            124   URXR      179             181   3312   \n",
       "3       2  RIH     145            124  IL2DR      182              88   3312   \n",
       "4       2  RIH     145            124  CEPDR      186              72   3312   \n",
       "\n",
       "   y_pos  z_pos          size  \n",
       "0   3540     50   56629.85685  \n",
       "1   3540     50  115370.14310  \n",
       "2   3848     50  529157.36040  \n",
       "3   3848     50  153855.83760  \n",
       "4   3848     50   17786.80203  "
      ]
     },
     "execution_count": 14,
     "metadata": {},
     "output_type": "execute_result"
    }
   ],
   "source": [
    "l1_syn_df = pd.read_csv(\"240527_dataset2_synapse.csv\")\n",
    "l2_syn_df = pd.read_csv(\"240527_dataset5_synapse.csv\")\n",
    "l3_syn_df = pd.read_csv(\"240527_dataset6_synapse.csv\")\n",
    "adult_syn_df = pd.read_csv(\"240527_dataset8_synapse.csv\")\n",
    "dauer_syn_df = pd.read_csv(\"240527_dauer1_synapse.csv\")\n",
    "dauer_syn_df.head()"
   ]
  },
  {
   "cell_type": "markdown",
   "id": "79d2c3c9",
   "metadata": {},
   "source": [
    "## Part 1"
   ]
  },
  {
   "cell_type": "code",
   "execution_count": 15,
   "id": "e78199fd",
   "metadata": {},
   "outputs": [],
   "source": [
    "# Neurotransmitter list\n",
    "# 1: Acetylcholine\n",
    "# 2: Glutamate\n",
    "# 3: Dopamine\n",
    "# 4: GABA\n",
    "# 5: Octopamine\n",
    "# 6: Serotonin\n",
    "# 7: Tyramine\n",
    "\n",
    "nt_keys = {\"Acetylcholine\": 1, \"Glutamate\": 2, \"Dopamine\": 3, \"GABA\": 4,\n",
    "           \"Octopamine\": 5, \"Serotonin\": 6, \"Tyramine\": 7}\n",
    "\n",
    "n = cell_df.shape[0]\n",
    "ntlist = np.zeros(n)\n",
    "temp = cell_df[[\"neurotransmitter1\", \"neurotransmitter2\"]].values\n",
    "for i in range(n):\n",
    "    \n",
    "    nt1 = temp[i,0]\n",
    "    nt2 = temp[i,1]\n",
    "    \n",
    "    if np.sum(np.isin(list(nt_keys.keys()),nt1)):\n",
    "        ntlist[i] = nt_keys[nt1]"
   ]
  },
  {
   "cell_type": "code",
   "execution_count": 16,
   "id": "53db60ef",
   "metadata": {},
   "outputs": [],
   "source": [
    "name_list = np.array(cell_df[\"name\"])\n",
    "type_list = np.array(cell_df[\"type\"])"
   ]
  },
  {
   "cell_type": "code",
   "execution_count": 34,
   "id": "4deff721",
   "metadata": {},
   "outputs": [
    {
     "data": {
      "text/plain": [
       "array([2.])"
      ]
     },
     "execution_count": 34,
     "metadata": {},
     "output_type": "execute_result"
    }
   ],
   "source": [
    "ntlist[name_list==\"ASKL\"]"
   ]
  },
  {
   "cell_type": "code",
   "execution_count": 26,
   "id": "16b3c07d",
   "metadata": {},
   "outputs": [
    {
     "data": {
      "text/plain": [
       "array([2])"
      ]
     },
     "execution_count": 26,
     "metadata": {},
     "output_type": "execute_result"
    }
   ],
   "source": [
    "type_list[name_list==\"AIAL\"]"
   ]
  },
  {
   "cell_type": "markdown",
   "id": "f4460ca7",
   "metadata": {},
   "source": [
    "### Number of neurons"
   ]
  },
  {
   "cell_type": "code",
   "execution_count": 8,
   "id": "c4bb7c87",
   "metadata": {},
   "outputs": [],
   "source": [
    "ntlist_sen = ntlist[type_list==1]\n",
    "ntlist_int = ntlist[type_list==2]\n",
    "ntlist_mot = ntlist[type_list==3]\n",
    "\n",
    "nnt_sen = np.array([np.sum(ntlist_sen==i+1) for i in range(5)])\n",
    "nnt_int = np.array([np.sum(ntlist_int==i+1) for i in range(5)])\n",
    "nnt_mot = np.array([np.sum(ntlist_mot==i+1) for i in range(5)])\n",
    "nnt_type = np.array([nnt_sen, nnt_int, nnt_mot])"
   ]
  },
  {
   "cell_type": "markdown",
   "id": "fd846cc5",
   "metadata": {},
   "source": [
    "### Mitochondria volume of interneurons"
   ]
  },
  {
   "cell_type": "code",
   "execution_count": 9,
   "id": "922216c1",
   "metadata": {},
   "outputs": [],
   "source": [
    "int_name_list = name_list[type_list==2]\n",
    "int_ntlist = ntlist[type_list==2]"
   ]
  },
  {
   "cell_type": "code",
   "execution_count": 10,
   "id": "74596470",
   "metadata": {},
   "outputs": [],
   "source": [
    "def get_mitovol(mito_df, cell_list):\n",
    "    \n",
    "    mitovol = []\n",
    "    \n",
    "    n = cell_list.shape[0]\n",
    "    for i in range(n):\n",
    "        \n",
    "        name = cell_list[i]\n",
    "        valid = mito_df[\"cell_name\"]==name\n",
    "        mitovol.append(list(mito_df[valid][\"mito_vol\"].values))\n",
    "    \n",
    "    if len(mitovol)==0:\n",
    "        return np.array([])\n",
    "    else:\n",
    "        return np.concatenate(mitovol)"
   ]
  },
  {
   "cell_type": "code",
   "execution_count": 11,
   "id": "d1c630b4",
   "metadata": {},
   "outputs": [],
   "source": [
    "l1_mitovol_int = [get_mitovol(l1_mito_df, int_name_list[int_ntlist==i]) for i in [1,2,4]]\n",
    "l2_mitovol_int = [get_mitovol(l2_mito_df, int_name_list[int_ntlist==i]) for i in [1,2,4]]\n",
    "l3_mitovol_int = [get_mitovol(l3_mito_df, int_name_list[int_ntlist==i]) for i in [1,2,4]]\n",
    "adult_mitovol_int = [get_mitovol(adult_mito_df, int_name_list[int_ntlist==i]) for i in [1,2,4]]\n",
    "dauer_mitovol_int = [get_mitovol(dauer_mito_df, int_name_list[int_ntlist==i]) for i in [1,2,4]]"
   ]
  },
  {
   "cell_type": "code",
   "execution_count": 12,
   "id": "d4ab2a84",
   "metadata": {},
   "outputs": [],
   "source": [
    "def plot1(ax):\n",
    "    \n",
    "    xticks = np.arange(3)\n",
    "    xticklab = [\"Sensory\", \"Inter\", \"Motor\"]\n",
    "    yticks = np.arange(0,83,10)\n",
    "    yticklab = [\"0\",\"\",\"20\",\"\",\"40\",\"\",\"60\",\"\",\"80\"]\n",
    "    \n",
    "    ax.bar(np.arange(3), nnt_type[:,0], color=nt_cmap[0],\n",
    "           label=\"ACh\")\n",
    "    ax.bar(np.arange(3), nnt_type[:,1], color=nt_cmap[1],\n",
    "            bottom=np.sum(nnt_type[:,:1],axis=1), label=\"Glu\")\n",
    "    ax.bar(np.arange(3), nnt_type[:,2], color=nt_cmap[2],\n",
    "            bottom=np.sum(nnt_type[:,:2],axis=1), label=\"DA\")\n",
    "    ax.bar(np.arange(3), nnt_type[:,3], color=nt_cmap[3],\n",
    "            bottom=np.sum(nnt_type[:,:3],axis=1), label=\"GABA\")\n",
    "    ax.bar(np.arange(3), nnt_type[:,4], color=nt_cmap[4],\n",
    "            bottom=np.sum(nnt_type[:,:4],axis=1), label=\"OA\")\n",
    "    \n",
    "    ax.set_ylim(0, 83)\n",
    "    ax.set_xticks(xticks)\n",
    "    ax.set_xticklabels(xticklab, fontsize=14, fontname=\"Arial\")\n",
    "    ax.set_yticks(yticks)\n",
    "    ax.set_yticklabels(yticklab, fontsize=12, fontname=\"Arial\")\n",
    "    ax.set_ylabel(\"Number of cells\", fontsize=14, fontname=\"Arial\")\n",
    "    ax.legend(loc=\"upper right\", ncol=1,\n",
    "              prop={\"family\": \"Arial\", \"size\": 10})\n",
    "    \n",
    "def plot2(ax):\n",
    "    \n",
    "    xticks = np.arange(3)\n",
    "    xticklab = [\"ACh\", \"Glu\", \"GABA\"]\n",
    "    yticks = np.arange(0,0.075,0.01)\n",
    "    yticklab = [\"0\",\"\",\"0.02\",\"\",\"0.04\",\"\",\"0.06\",\"\"]\n",
    "    \n",
    "    sns.boxplot(data=adult_mitovol_nt, whis=[5,95], showfliers=False,\n",
    "                palette=[nt_cmap[0],nt_cmap[1],nt_cmap[3]])\n",
    "    \n",
    "    ax.set_ylim(0,0.075)\n",
    "    ax.set_xticks(xticks)\n",
    "    ax.set_xticklabels(xticklab, fontsize=14, fontname=\"Arial\")\n",
    "    ax.set_yticks(yticks)\n",
    "    ax.set_yticklabels(yticklab, fontsize=12, fontname=\"Arial\")\n",
    "    ax.set_ylabel(\"Mito. volume ($\\mu$m$^3$)\", fontsize=14, fontname=\"Arial\")\n",
    "    \n",
    "def plot3(ax):\n",
    "    \n",
    "    xticks = np.arange(3)\n",
    "    xticklab = [\"ACh\", \"Glu\", \"GABA\"]\n",
    "    yticks = np.arange(0,0.045,0.01)\n",
    "    yticklab = [\"0\",\"\",\"0.02\",\"\",\"0.04\"]\n",
    "    \n",
    "    sns.boxplot(data=dauer_mitovol_nt, whis=[5,95], showfliers=False,\n",
    "                palette=[nt_cmap[0],nt_cmap[1],nt_cmap[3]])\n",
    "    \n",
    "    ax.set_ylim(0,0.043)\n",
    "    ax.set_xticks(xticks)\n",
    "    ax.set_xticklabels(xticklab, fontsize=14, fontname=\"Arial\")\n",
    "    ax.set_yticks(yticks)\n",
    "    ax.set_yticklabels(yticklab, fontsize=12, fontname=\"Arial\")"
   ]
  },
  {
   "cell_type": "code",
   "execution_count": 164,
   "id": "3ee7315f",
   "metadata": {},
   "outputs": [
    {
     "data": {
      "image/png": "[encoded data removed]",
      "text/plain": [
       "<Figure size 604.8x187.2 with 3 Axes>"
      ]
     },
     "metadata": {
      "needs_background": "light"
     },
     "output_type": "display_data"
    },
    {
     "name": "stdout",
     "output_type": "stream",
     "text": [
      "Adult mitochondria volume:\n",
      "Ach-Glu: p = 0.00119570700892936\n",
      "Ach-GABA: p = 0.04677392421451331\n",
      "\n",
      "Dauer mitochondria volume:\n",
      "Ach-Glu: p = 0.0020274453315791293\n",
      "Ach-GABA: p = 6.690946233451283e-06\n",
      "Glu-GABA: p = 0.007374135641320886\n"
     ]
    }
   ],
   "source": [
    "fig = plt.figure(figsize=(8.4,2.6), constrained_layout=True)\n",
    "gs = fig.add_gridspec(1,7)\n",
    "\n",
    "ax1 = fig.add_subplot(gs[0,:3])\n",
    "plot1(ax1)\n",
    "\n",
    "ax2 = fig.add_subplot(gs[0,3:5])\n",
    "plot2(ax2)\n",
    "\n",
    "ax3 = fig.add_subplot(gs[0,5:])\n",
    "plot3(ax3)\n",
    "\n",
    "plt.savefig(\"/home/jabae/Dropbox/SNU/Research/Celegans/Cmito/figures/figure_v2/panels/fig6_1.svg\")\n",
    "plt.show()\n",
    "\n",
    "_, amitovol_p1 = ranksums(adult_mitovol_int[0],adult_mitovol_int[1])\n",
    "_, amitovol_p2 = ranksums(adult_mitovol_int[0],adult_mitovol_int[2])\n",
    "_, dmitovol_p1 = ranksums(dauer_mitovol_int[0],dauer_mitovol_int[1])\n",
    "_, dmitovol_p2 = ranksums(dauer_mitovol_int[0],dauer_mitovol_int[2])\n",
    "_, dmitovol_p3 = ranksums(dauer_mitovol_int[1],dauer_mitovol_int[2])\n",
    "\n",
    "\n",
    "print(f\"Adult mitochondria volume:\\nAch-Glu: p = {amitovol_p1}\\nAch-GABA: p = {amitovol_p2}\\n\")\n",
    "print(f\"Dauer mitochondria volume:\\nAch-Glu: p = {dmitovol_p1}\\nAch-GABA: p = {dmitovol_p2}\\n\\\n",
    "Glu-GABA: p = {dmitovol_p3}\")"
   ]
  },
  {
   "cell_type": "markdown",
   "id": "3c81f5d9",
   "metadata": {},
   "source": [
    "## Part 2"
   ]
  },
  {
   "cell_type": "code",
   "execution_count": 15,
   "id": "8a798ae2",
   "metadata": {},
   "outputs": [],
   "source": [
    "def get_mitovol_frac(mito_df):\n",
    "    \n",
    "    n = cell_df.shape[0]\n",
    "    mitovol_frac = np.zeros(n)\n",
    "    for i in range(n):\n",
    "        \n",
    "        name = cell_df.iloc[i][\"name\"]\n",
    "        \n",
    "        valid = mito_df[\"cell_name\"]==name\n",
    "        if np.sum(valid)==0:\n",
    "            continue\n",
    "            \n",
    "        cell_vol = mito_df[valid][\"cell_vol\"].values[0]\n",
    "        mitovol_frac[i] = np.sum(mito_df[valid][\"mito_vol\"])/cell_vol\n",
    "        \n",
    "    return mitovol_frac\n",
    "\n",
    "def filter_zero(arr):\n",
    "    \n",
    "    return arr[arr>0]\n",
    "\n",
    "def dist(x, y):\n",
    "    \n",
    "    x = x.reshape((-1,3))\n",
    "    y = y.reshape((-1,3))\n",
    "    \n",
    "    return np.sum((x-y)**2, axis=1)**0.5\n",
    "\n",
    "def get_dist_from_syn(syn_df, mito_df, mode=\"pre\"):\n",
    "    \n",
    "    if mode==\"pre\":\n",
    "        \n",
    "        syn_id_list = np.unique(syn_df[\"syn_id\"])\n",
    "        n = syn_id_list.shape[0]\n",
    "        dist_from_syn = np.zeros(n)\n",
    "        for i in range(n):\n",
    "            \n",
    "            syn_id = syn_id_list[i]\n",
    "            syn_loc = syn_df[syn_df[\"syn_id\"]==syn_id][[\"x_pos\", \"y_pos\", \"z_pos\"]].values[0,:]/1000\n",
    "            cell_id = syn_df[syn_df[\"syn_id\"]==syn_id][\"pre_common_id\"].values[0]\n",
    "\n",
    "            valid = mito_df[\"cell_common_id\"]==cell_id\n",
    "            if np.sum(valid)==0:\n",
    "                continue\n",
    "            mito_loc_list = mito_df[valid][[\"x_pos\", \"y_pos\", \"z_pos\"]].values\n",
    "            dist_list = dist(mito_loc_list, syn_loc)\n",
    "            dist_from_syn[i] = np.min(dist_list)\n",
    "            \n",
    "    elif mode==\"post\":\n",
    "        \n",
    "        n = syn_df.shape[0]\n",
    "        dist_from_syn = np.zeros(n)\n",
    "        for i in range(n):\n",
    "        \n",
    "            syn_loc = syn_df.iloc[i][[\"x_pos\", \"y_pos\", \"z_pos\"]].values/1000\n",
    "            cell_id = syn_df.iloc[i][\"post_common_id\"]\n",
    "\n",
    "            valid = mito_df[\"cell_common_id\"]==cell_id\n",
    "            if np.sum(valid)==0:\n",
    "                continue\n",
    "            mito_loc_list = mito_df[valid][[\"x_pos\", \"y_pos\", \"z_pos\"]].values\n",
    "            dist_list = dist(mito_loc_list, syn_loc)\n",
    "            dist_from_syn[i] = np.min(dist_list)\n",
    "    \n",
    "    return dist_from_syn\n",
    "\n",
    "def get_syn_nt(syn_df, mode=\"pre\"):\n",
    "    \n",
    "    \n",
    "    if mode==\"pre\":\n",
    "        \n",
    "        syn_id_list = np.unique(syn_df[\"syn_id\"])\n",
    "        n = syn_id_list.shape[0]\n",
    "        syn_nt = np.zeros(n)\n",
    "        for i in range(n):\n",
    "            \n",
    "            syn_id = syn_id_list[i]\n",
    "            name = syn_df[syn_df[\"syn_id\"]==syn_id][\"pre\"].values[0]\n",
    "            valid = name_list==name\n",
    "            if np.sum(valid):\n",
    "                syn_nt[i] = ntlist[valid][0]\n",
    "    \n",
    "    elif mode==\"post\":\n",
    "        \n",
    "        n = syn_df.shape[0]\n",
    "        syn_nt = np.zeros(n)\n",
    "        for i in range(n):\n",
    "            \n",
    "            name = syn_df.iloc[i][\"post\"]\n",
    "            valid = name_list==name\n",
    "            if np.sum(valid):\n",
    "                syn_nt[i] = ntlist[valid][0]\n",
    "    \n",
    "    return syn_nt\n",
    "\n",
    "def get_syn_type(syn_df, mode=\"pre\"):\n",
    "    \n",
    "    \n",
    "    if mode==\"pre\":\n",
    "        \n",
    "        syn_id_list = np.unique(syn_df[\"syn_id\"])\n",
    "        n = syn_id_list.shape[0]\n",
    "        syn_nt = np.zeros(n)\n",
    "        for i in range(n):\n",
    "            \n",
    "            syn_id = syn_id_list[i]\n",
    "            name = syn_df[syn_df[\"syn_id\"]==syn_id][\"pre\"].values[0]\n",
    "            valid = name_list==name\n",
    "            if np.sum(valid):\n",
    "                syn_nt[i] = type_list[valid][0]\n",
    "    \n",
    "    elif mode==\"post\":\n",
    "        \n",
    "        n = syn_df.shape[0]\n",
    "        syn_nt = np.zeros(n)\n",
    "        for i in range(n):\n",
    "            \n",
    "            name = syn_df.iloc[i][\"post\"]\n",
    "            valid = name_list==name\n",
    "            if np.sum(valid):\n",
    "                syn_nt[i] = type_list[valid][0]\n",
    "    \n",
    "    return syn_nt"
   ]
  },
  {
   "cell_type": "code",
   "execution_count": 16,
   "id": "dbdba841",
   "metadata": {},
   "outputs": [],
   "source": [
    "l1_mitovol_frac = get_mitovol_frac(l1_mito_df)\n",
    "l2_mitovol_frac = get_mitovol_frac(l2_mito_df)\n",
    "l3_mitovol_frac = get_mitovol_frac(l3_mito_df)\n",
    "adult_mitovol_frac = get_mitovol_frac(adult_mito_df)\n",
    "dauer_mitovol_frac = get_mitovol_frac(dauer_mito_df)"
   ]
  },
  {
   "cell_type": "code",
   "execution_count": 17,
   "id": "870046af",
   "metadata": {},
   "outputs": [],
   "source": [
    "l1_volfrac_int = [filter_zero(l1_mitovol_frac[type_list==2][int_ntlist==i]) for i in [1,2,4]]\n",
    "l2_volfrac_int = [filter_zero(l2_mitovol_frac[type_list==2][int_ntlist==i]) for i in [1,2,4]]\n",
    "l3_volfrac_int = [filter_zero(l3_mitovol_frac[type_list==2][int_ntlist==i]) for i in [1,2,4]]\n",
    "adult_volfrac_int = [filter_zero(adult_mitovol_frac[type_list==2][int_ntlist==i]) for i in [1,2,4]]\n",
    "dauer_volfrac_int = [filter_zero(dauer_mitovol_frac[type_list==2][int_ntlist==i]) for i in [1,2,4]]"
   ]
  },
  {
   "cell_type": "code",
   "execution_count": 18,
   "id": "1b75c8af",
   "metadata": {},
   "outputs": [],
   "source": [
    "l1_dist_pre = get_dist_from_syn(l1_syn_df, l1_mito_df, \"pre\")\n",
    "l2_dist_pre = get_dist_from_syn(l2_syn_df, l2_mito_df, \"pre\")\n",
    "l3_dist_pre = get_dist_from_syn(l3_syn_df, l3_mito_df, \"pre\")\n",
    "adult_dist_pre = get_dist_from_syn(adult_syn_df, adult_mito_df, \"pre\")\n",
    "dauer_dist_pre = get_dist_from_syn(dauer_syn_df, dauer_mito_df, \"pre\")\n",
    "\n",
    "l1_syn_ntlist_pre = get_syn_nt(l1_syn_df, \"pre\")\n",
    "l2_syn_ntlist_pre = get_syn_nt(l2_syn_df, \"pre\")\n",
    "l3_syn_ntlist_pre = get_syn_nt(l3_syn_df, \"pre\")\n",
    "adult_syn_ntlist_pre = get_syn_nt(adult_syn_df, \"pre\")\n",
    "dauer_syn_ntlist_pre = get_syn_nt(dauer_syn_df, \"pre\")\n",
    "\n",
    "l1_syn_typelist_pre = get_syn_type(l1_syn_df, \"pre\")\n",
    "l2_syn_typelist_pre = get_syn_type(l2_syn_df, \"pre\")\n",
    "l3_syn_typelist_pre = get_syn_type(l3_syn_df, \"pre\")\n",
    "adult_syn_typelist_pre = get_syn_type(adult_syn_df, \"pre\")\n",
    "dauer_syn_typelist_pre = get_syn_type(dauer_syn_df, \"pre\")"
   ]
  },
  {
   "cell_type": "code",
   "execution_count": 19,
   "id": "b1d9196e",
   "metadata": {},
   "outputs": [],
   "source": [
    "valid = l1_dist_pre>0\n",
    "l1_dist_pre = l1_dist_pre[valid]\n",
    "l1_syn_ntlist_pre = l1_syn_ntlist_pre[valid]\n",
    "l1_syn_typelist_pre = l1_syn_typelist_pre[valid]\n",
    "\n",
    "valid = l2_dist_pre>0\n",
    "l2_dist_pre = l2_dist_pre[valid]\n",
    "l2_syn_ntlist_pre = l2_syn_ntlist_pre[valid]\n",
    "l2_syn_typelist_pre = l2_syn_typelist_pre[valid]\n",
    "\n",
    "valid = l3_dist_pre>0\n",
    "l3_dist_pre = l3_dist_pre[valid]\n",
    "l3_syn_ntlist_pre = l3_syn_ntlist_pre[valid]\n",
    "l3_syn_typelist_pre = l3_syn_typelist_pre[valid]\n",
    "\n",
    "valid = adult_dist_pre>0\n",
    "adult_dist_pre = adult_dist_pre[valid]\n",
    "adult_syn_ntlist_pre = adult_syn_ntlist_pre[valid]\n",
    "adult_syn_typelist_pre = adult_syn_typelist_pre[valid]\n",
    "\n",
    "valid = dauer_dist_pre>0\n",
    "dauer_dist_pre = dauer_dist_pre[valid]\n",
    "dauer_syn_ntlist_pre = dauer_syn_ntlist_pre[valid]\n",
    "dauer_syn_typelist_pre = dauer_syn_typelist_pre[valid]"
   ]
  },
  {
   "cell_type": "code",
   "execution_count": 20,
   "id": "c9e9d887",
   "metadata": {},
   "outputs": [],
   "source": [
    "l1_distpre_int = [l1_dist_pre[(l1_syn_ntlist_pre==i)*(l1_syn_typelist_pre==2)] for i in [1,2,4]]\n",
    "l2_distpre_int = [l2_dist_pre[(l2_syn_ntlist_pre==i)*(l2_syn_typelist_pre==2)] for i in [1,2,4]]\n",
    "l3_distpre_int = [l3_dist_pre[(l3_syn_ntlist_pre==i)*(l3_syn_typelist_pre==2)] for i in [1,2,4]]\n",
    "adult_distpre_int = [adult_dist_pre[(adult_syn_ntlist_pre==i)*(adult_syn_typelist_pre==2)] for i in [1,2,4]]\n",
    "dauer_distpre_int = [dauer_dist_pre[(dauer_syn_ntlist_pre==i)*(dauer_syn_typelist_pre==2)] for i in [1,2,4]]"
   ]
  },
  {
   "cell_type": "code",
   "execution_count": 21,
   "id": "c4b05020",
   "metadata": {},
   "outputs": [],
   "source": [
    "l1_volfrac = [filter_zero(l1_mitovol_frac[ntlist==i]) for i in [1,2]]\n",
    "l2_volfrac = [filter_zero(l2_mitovol_frac[ntlist==i]) for i in [1,2]]\n",
    "l3_volfrac = [filter_zero(l3_mitovol_frac[ntlist==i]) for i in [1,2]]\n",
    "adult_volfrac = [filter_zero(adult_mitovol_frac[ntlist==i]) for i in [1,2]]\n",
    "dauer_volfrac = [filter_zero(dauer_mitovol_frac[ntlist==i]) for i in [1,2]]"
   ]
  },
  {
   "cell_type": "code",
   "execution_count": 22,
   "id": "88250572",
   "metadata": {
    "scrolled": true
   },
   "outputs": [
    {
     "data": {
      "text/html": [
       "<div>\n",
       "<style scoped>\n",
       "    .dataframe tbody tr th:only-of-type {\n",
       "        vertical-align: middle;\n",
       "    }\n",
       "\n",
       "    .dataframe tbody tr th {\n",
       "        vertical-align: top;\n",
       "    }\n",
       "\n",
       "    .dataframe thead th {\n",
       "        text-align: right;\n",
       "    }\n",
       "</style>\n",
       "<table border=\"1\" class=\"dataframe\">\n",
       "  <thead>\n",
       "    <tr style=\"text-align: right;\">\n",
       "      <th></th>\n",
       "      <th>stage</th>\n",
       "      <th>neurotransmitter</th>\n",
       "      <th>vol_frac</th>\n",
       "    </tr>\n",
       "  </thead>\n",
       "  <tbody>\n",
       "    <tr>\n",
       "      <th>0</th>\n",
       "      <td>L2</td>\n",
       "      <td>ACh</td>\n",
       "      <td>0.035079</td>\n",
       "    </tr>\n",
       "    <tr>\n",
       "      <th>1</th>\n",
       "      <td>L2</td>\n",
       "      <td>ACh</td>\n",
       "      <td>0.023832</td>\n",
       "    </tr>\n",
       "    <tr>\n",
       "      <th>2</th>\n",
       "      <td>L2</td>\n",
       "      <td>ACh</td>\n",
       "      <td>0.030812</td>\n",
       "    </tr>\n",
       "    <tr>\n",
       "      <th>3</th>\n",
       "      <td>L2</td>\n",
       "      <td>ACh</td>\n",
       "      <td>0.025991</td>\n",
       "    </tr>\n",
       "    <tr>\n",
       "      <th>4</th>\n",
       "      <td>L2</td>\n",
       "      <td>ACh</td>\n",
       "      <td>0.033922</td>\n",
       "    </tr>\n",
       "  </tbody>\n",
       "</table>\n",
       "</div>"
      ],
      "text/plain": [
       "  stage neurotransmitter  vol_frac\n",
       "0    L2              ACh  0.035079\n",
       "1    L2              ACh  0.023832\n",
       "2    L2              ACh  0.030812\n",
       "3    L2              ACh  0.025991\n",
       "4    L2              ACh  0.033922"
      ]
     },
     "execution_count": 22,
     "metadata": {},
     "output_type": "execute_result"
    }
   ],
   "source": [
    "nach = l2_volfrac[0].shape[0]+adult_volfrac[0].shape[0]+dauer_volfrac[0].shape[0]\n",
    "nglu = l2_volfrac[1].shape[0]+adult_volfrac[1].shape[0]+dauer_volfrac[1].shape[0]\n",
    "\n",
    "volfrac_comb = np.concatenate([l2_volfrac[0],adult_volfrac[0],dauer_volfrac[0],\n",
    "                l2_volfrac[1],adult_volfrac[1],dauer_volfrac[1]])\n",
    "stage_comb = np.concatenate([[\"L2\"]*l2_volfrac[0].shape[0],\n",
    "                       [\"Adult\"]*adult_volfrac[0].shape[0],\n",
    "                       [\"Dauer\"]*dauer_volfrac[0].shape[0],\n",
    "                       [\"L2\"]*l2_volfrac[1].shape[0],\n",
    "                       [\"Adult\"]*adult_volfrac[1].shape[0],\n",
    "                       [\"Dauer\"]*dauer_volfrac[1].shape[0]])\n",
    "nt_comb = np.concatenate([[\"ACh\"]*nach, [\"Glu\"]*nglu])\n",
    "\n",
    "data = {\"stage\": stage_comb,\n",
    "        \"neurotransmitter\": nt_comb,\n",
    "        \"vol_frac\": volfrac_comb}\n",
    "\n",
    "data_df = pd.DataFrame(data=data)\n",
    "data_df.head()"
   ]
  },
  {
   "cell_type": "code",
   "execution_count": 200,
   "id": "6194dd5e",
   "metadata": {},
   "outputs": [],
   "source": [
    "def plot4(ax):\n",
    "    \n",
    "    xticks = np.arange(2)\n",
    "    xticklab = [\"ACh\", \"Glu\"]\n",
    "    yticks = np.arange(0,4.7,1)\n",
    "    yticklab = [\"0\",\"1\",\"2\",\"3\",\"4\"]\n",
    "    \n",
    "    sns.boxplot(data=adult_distpre_int[:2], whis=[5,95], showfliers=False,\n",
    "                palette=[nt_cmap[0],nt_cmap[1]])\n",
    "    \n",
    "    ax.set_ylim(0,4.7)\n",
    "    ax.set_xticks(xticks)\n",
    "    ax.set_xticklabels(xticklab, fontsize=14, fontname=\"Arial\")\n",
    "    ax.set_yticks(yticks)\n",
    "    ax.set_yticklabels(yticklab, fontsize=12, fontname=\"Arial\")\n",
    "    ax.set_ylabel(\"$d_{mito}^{pre}$ ($\\mu$m)\", fontsize=14, fontname=\"Arial\")\n",
    "\n",
    "def plot5(ax):\n",
    "    \n",
    "    xticks = np.arange(2)\n",
    "    xticklab = [\"ACh\", \"Glu\"]\n",
    "    yticks = np.arange(0,0.081,0.02)\n",
    "    yticklab = [\"0\",\"\",\"0.04\",\"\",\"0.08\"]\n",
    "    \n",
    "    sns.boxplot(data=adult_volfrac_int[:2], whis=[5,95], showfliers=False,\n",
    "                palette=[nt_cmap[0],nt_cmap[1]])\n",
    "    \n",
    "    ax.set_ylim(0,0.081)\n",
    "    ax.set_xticks(xticks)\n",
    "    ax.set_xticklabels(xticklab, fontsize=14, fontname=\"Arial\")\n",
    "    ax.set_yticks(yticks)\n",
    "    ax.set_yticklabels(yticklab, fontsize=12, fontname=\"Arial\")\n",
    "    ax.set_ylabel(\"Mito. volume fraction\", fontsize=14, fontname=\"Arial\")\n",
    "    \n",
    "def plot6(ax):\n",
    "    \n",
    "    xticks = np.arange(3)\n",
    "    xticklab = [\"L2\", \"Adult\", \"Dauer\"]\n",
    "    yticks = np.arange(0, 0.105, 0.02)\n",
    "    yticklab = [\"0\",\"\",\"0.04\",\"\",\"0.08\",\"\"]\n",
    "    \n",
    "    sns.boxplot(data=data_df, x=\"stage\", y=\"vol_frac\", whis=[5,95],\n",
    "                showfliers=False, hue=\"neurotransmitter\",\n",
    "                palette=[nt_cmap[0], nt_cmap[1]], gap=0.1,\n",
    "                legend=False)\n",
    "    \n",
    "    ax.set_xticks(xticks)\n",
    "    ax.set_xticklabels(xticklab, fontsize=14, fontname=\"Arial\")\n",
    "    ax.set_yticks(yticks)\n",
    "    ax.set_yticklabels(yticklab, fontsize=12, fontname=\"Arial\")\n",
    "    ax.set_xlabel(\"\")\n",
    "    ax.set_ylabel(\"Mito. volume fraction\", fontsize=14, fontname=\"Arial\")"
   ]
  },
  {
   "cell_type": "code",
   "execution_count": 202,
   "id": "b2abfab4",
   "metadata": {},
   "outputs": [
    {
     "data": {
      "image/png": "[encoded data removed]",
      "text/plain": [
       "<Figure size 604.8x187.2 with 3 Axes>"
      ]
     },
     "metadata": {
      "needs_background": "light"
     },
     "output_type": "display_data"
    }
   ],
   "source": [
    "fig = plt.figure(figsize=(8.4,2.6), constrained_layout=True)\n",
    "gs = fig.add_gridspec(1,9)\n",
    "\n",
    "ax1 = fig.add_subplot(gs[0,:2])\n",
    "plot4(ax1)\n",
    "\n",
    "ax2 = fig.add_subplot(gs[0,2:4])\n",
    "plot5(ax2)\n",
    "\n",
    "ax3 = fig.add_subplot(gs[0,4:])\n",
    "plot6(ax3)\n",
    "\n",
    "plt.savefig(\"/home/jabae/Dropbox/SNU/Research/Celegans/Cmito/figures/figure_v2/panels/fig6_2.svg\")\n",
    "plt.show()"
   ]
  },
  {
   "cell_type": "code",
   "execution_count": 25,
   "id": "dc3cc59c",
   "metadata": {},
   "outputs": [
    {
     "data": {
      "text/plain": [
       "RanksumsResult(statistic=-2.693201316896554, pvalue=0.007076952289597478)"
      ]
     },
     "execution_count": 25,
     "metadata": {},
     "output_type": "execute_result"
    }
   ],
   "source": [
    "ranksums(adult_volfrac_int[0], adult_volfrac_int[1])"
   ]
  },
  {
   "cell_type": "code",
   "execution_count": 26,
   "id": "e841937b",
   "metadata": {},
   "outputs": [
    {
     "data": {
      "text/plain": [
       "RanksumsResult(statistic=-4.936631888259098, pvalue=7.948329261398323e-07)"
      ]
     },
     "execution_count": 26,
     "metadata": {},
     "output_type": "execute_result"
    }
   ],
   "source": [
    "ranksums(l2_volfrac[0], dauer_volfrac[0])"
   ]
  },
  {
   "cell_type": "code",
   "execution_count": 27,
   "id": "ca7036a9",
   "metadata": {},
   "outputs": [
    {
     "data": {
      "text/plain": [
       "RanksumsResult(statistic=-5.907414312510095, pvalue=3.4751898119835986e-09)"
      ]
     },
     "execution_count": 27,
     "metadata": {},
     "output_type": "execute_result"
    }
   ],
   "source": [
    "ranksums(adult_volfrac[0], dauer_volfrac[0])"
   ]
  },
  {
   "cell_type": "code",
   "execution_count": 34,
   "id": "df7154f8",
   "metadata": {},
   "outputs": [
    {
     "data": {
      "text/plain": [
       "RanksumsResult(statistic=-2.9540883546800556, pvalue=0.003135942088653905)"
      ]
     },
     "execution_count": 34,
     "metadata": {},
     "output_type": "execute_result"
    }
   ],
   "source": [
    "ranksums(l2_volfrac[1], dauer_volfrac[1])"
   ]
  },
  {
   "cell_type": "code",
   "execution_count": 35,
   "id": "30266c76",
   "metadata": {},
   "outputs": [
    {
     "data": {
      "text/plain": [
       "RanksumsResult(statistic=-2.9540883546800556, pvalue=0.003135942088653905)"
      ]
     },
     "execution_count": 35,
     "metadata": {},
     "output_type": "execute_result"
    }
   ],
   "source": [
    "ranksums(adult_volfrac[1], dauer_volfrac[1])"
   ]
  },
  {
   "cell_type": "code",
   "execution_count": 33,
   "id": "2e21dcce",
   "metadata": {},
   "outputs": [
    {
     "data": {
      "text/plain": [
       "RanksumsResult(statistic=0.4086028752267741, pvalue=0.6828311202973789)"
      ]
     },
     "execution_count": 33,
     "metadata": {},
     "output_type": "execute_result"
    }
   ],
   "source": [
    "ranksums(adult_volfrac[1], l2_volfrac[1])"
   ]
  },
  {
   "cell_type": "code",
   "execution_count": null,
   "id": "fb2d8959",
   "metadata": {},
   "outputs": [],
   "source": []
  }
 ],
 "metadata": {
  "kernelspec": {
   "display_name": "Python 3 (ipykernel)",
   "language": "python",
   "name": "python3"
  },
  "language_info": {
   "codemirror_mode": {
    "name": "ipython",
    "version": 3
   },
   "file_extension": ".py",
   "mimetype": "text/x-python",
   "name": "python",
   "nbconvert_exporter": "python",
   "pygments_lexer": "ipython3",
   "version": "3.8.12"
  }
 },
 "nbformat": 4,
 "nbformat_minor": 5
}
